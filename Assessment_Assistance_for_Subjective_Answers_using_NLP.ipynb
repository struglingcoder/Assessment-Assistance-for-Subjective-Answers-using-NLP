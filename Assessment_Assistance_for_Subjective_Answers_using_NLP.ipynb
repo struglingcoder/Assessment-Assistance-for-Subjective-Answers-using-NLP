{
  "cells": [
    {
      "cell_type": "code",
      "execution_count": 1,
      "metadata": {
        "id": "OXs0i96mAQe4"
      },
      "outputs": [],
      "source": [
        "import pandas as pd\n",
        "from sklearn.feature_extraction.text import TfidfVectorizer\n",
        "from sklearn.metrics.pairwise import cosine_similarity"
      ]
    },
    {
      "cell_type": "code",
      "execution_count": 2,
      "metadata": {
        "colab": {
          "base_uri": "https://localhost:8080/",
          "height": 441
        },
        "id": "kwYN3P1nAw9p",
        "outputId": "427b83dc-6807-4c2a-9f95-0eb825ff5840"
      },
      "outputs": [
        {
          "output_type": "execute_result",
          "data": {
            "text/plain": [
              "     S. No.  \\\n",
              "0         1   \n",
              "1         2   \n",
              "2         3   \n",
              "3         4   \n",
              "4         5   \n",
              "..      ...   \n",
              "219     220   \n",
              "220     221   \n",
              "221     222   \n",
              "222     223   \n",
              "223     224   \n",
              "\n",
              "    What is the working principle of a DC motor? List a few important components of a DC motor. (Answers copied verbatim from the internet or other students will be awarded 0 marks.)  \n",
              "0    The principle of is that when an current carry...                                                                                                                                  \n",
              "1    The working principle is that when a current c...                                                                                                                                  \n",
              "2    Components of DC motor are: rotor, stator, bru...                                                                                                                                  \n",
              "3    The basic principle of dc motor is that it exp...                                                                                                                                  \n",
              "4    When a current carrying conductor is placed in...                                                                                                                                  \n",
              "..                                                 ...                                                                                                                                  \n",
              "219  The working principle of DC motor is that a cu...                                                                                                                                  \n",
              "220  The principle behind an electric DC motor is t...                                                                                                                                  \n",
              "221  The basic working principle is that when a cur...                                                                                                                                  \n",
              "222  The basic working principle of the dc motor is...                                                                                                                                  \n",
              "223  The working problem of dc motor is that when c...                                                                                                                                  \n",
              "\n",
              "[224 rows x 2 columns]"
            ],
            "text/html": [
              "\n",
              "  <div id=\"df-b150353c-8712-4fe8-9902-c1cf5dd69184\" class=\"colab-df-container\">\n",
              "    <div>\n",
              "<style scoped>\n",
              "    .dataframe tbody tr th:only-of-type {\n",
              "        vertical-align: middle;\n",
              "    }\n",
              "\n",
              "    .dataframe tbody tr th {\n",
              "        vertical-align: top;\n",
              "    }\n",
              "\n",
              "    .dataframe thead th {\n",
              "        text-align: right;\n",
              "    }\n",
              "</style>\n",
              "<table border=\"1\" class=\"dataframe\">\n",
              "  <thead>\n",
              "    <tr style=\"text-align: right;\">\n",
              "      <th></th>\n",
              "      <th>S. No.</th>\n",
              "      <th>What is the working principle of a DC motor? List a few important components of a DC motor. (Answers copied verbatim from the internet or other students will be awarded 0 marks.)</th>\n",
              "    </tr>\n",
              "  </thead>\n",
              "  <tbody>\n",
              "    <tr>\n",
              "      <th>0</th>\n",
              "      <td>1</td>\n",
              "      <td>The principle of is that when an current carry...</td>\n",
              "    </tr>\n",
              "    <tr>\n",
              "      <th>1</th>\n",
              "      <td>2</td>\n",
              "      <td>The working principle is that when a current c...</td>\n",
              "    </tr>\n",
              "    <tr>\n",
              "      <th>2</th>\n",
              "      <td>3</td>\n",
              "      <td>Components of DC motor are: rotor, stator, bru...</td>\n",
              "    </tr>\n",
              "    <tr>\n",
              "      <th>3</th>\n",
              "      <td>4</td>\n",
              "      <td>The basic principle of dc motor is that it exp...</td>\n",
              "    </tr>\n",
              "    <tr>\n",
              "      <th>4</th>\n",
              "      <td>5</td>\n",
              "      <td>When a current carrying conductor is placed in...</td>\n",
              "    </tr>\n",
              "    <tr>\n",
              "      <th>...</th>\n",
              "      <td>...</td>\n",
              "      <td>...</td>\n",
              "    </tr>\n",
              "    <tr>\n",
              "      <th>219</th>\n",
              "      <td>220</td>\n",
              "      <td>The working principle of DC motor is that a cu...</td>\n",
              "    </tr>\n",
              "    <tr>\n",
              "      <th>220</th>\n",
              "      <td>221</td>\n",
              "      <td>The principle behind an electric DC motor is t...</td>\n",
              "    </tr>\n",
              "    <tr>\n",
              "      <th>221</th>\n",
              "      <td>222</td>\n",
              "      <td>The basic working principle is that when a cur...</td>\n",
              "    </tr>\n",
              "    <tr>\n",
              "      <th>222</th>\n",
              "      <td>223</td>\n",
              "      <td>The basic working principle of the dc motor is...</td>\n",
              "    </tr>\n",
              "    <tr>\n",
              "      <th>223</th>\n",
              "      <td>224</td>\n",
              "      <td>The working problem of dc motor is that when c...</td>\n",
              "    </tr>\n",
              "  </tbody>\n",
              "</table>\n",
              "<p>224 rows × 2 columns</p>\n",
              "</div>\n",
              "    <div class=\"colab-df-buttons\">\n",
              "\n",
              "  <div class=\"colab-df-container\">\n",
              "    <button class=\"colab-df-convert\" onclick=\"convertToInteractive('df-b150353c-8712-4fe8-9902-c1cf5dd69184')\"\n",
              "            title=\"Convert this dataframe to an interactive table.\"\n",
              "            style=\"display:none;\">\n",
              "\n",
              "  <svg xmlns=\"http://www.w3.org/2000/svg\" height=\"24px\" viewBox=\"0 -960 960 960\">\n",
              "    <path d=\"M120-120v-720h720v720H120Zm60-500h600v-160H180v160Zm220 220h160v-160H400v160Zm0 220h160v-160H400v160ZM180-400h160v-160H180v160Zm440 0h160v-160H620v160ZM180-180h160v-160H180v160Zm440 0h160v-160H620v160Z\"/>\n",
              "  </svg>\n",
              "    </button>\n",
              "\n",
              "  <style>\n",
              "    .colab-df-container {\n",
              "      display:flex;\n",
              "      gap: 12px;\n",
              "    }\n",
              "\n",
              "    .colab-df-convert {\n",
              "      background-color: #E8F0FE;\n",
              "      border: none;\n",
              "      border-radius: 50%;\n",
              "      cursor: pointer;\n",
              "      display: none;\n",
              "      fill: #1967D2;\n",
              "      height: 32px;\n",
              "      padding: 0 0 0 0;\n",
              "      width: 32px;\n",
              "    }\n",
              "\n",
              "    .colab-df-convert:hover {\n",
              "      background-color: #E2EBFA;\n",
              "      box-shadow: 0px 1px 2px rgba(60, 64, 67, 0.3), 0px 1px 3px 1px rgba(60, 64, 67, 0.15);\n",
              "      fill: #174EA6;\n",
              "    }\n",
              "\n",
              "    .colab-df-buttons div {\n",
              "      margin-bottom: 4px;\n",
              "    }\n",
              "\n",
              "    [theme=dark] .colab-df-convert {\n",
              "      background-color: #3B4455;\n",
              "      fill: #D2E3FC;\n",
              "    }\n",
              "\n",
              "    [theme=dark] .colab-df-convert:hover {\n",
              "      background-color: #434B5C;\n",
              "      box-shadow: 0px 1px 3px 1px rgba(0, 0, 0, 0.15);\n",
              "      filter: drop-shadow(0px 1px 2px rgba(0, 0, 0, 0.3));\n",
              "      fill: #FFFFFF;\n",
              "    }\n",
              "  </style>\n",
              "\n",
              "    <script>\n",
              "      const buttonEl =\n",
              "        document.querySelector('#df-b150353c-8712-4fe8-9902-c1cf5dd69184 button.colab-df-convert');\n",
              "      buttonEl.style.display =\n",
              "        google.colab.kernel.accessAllowed ? 'block' : 'none';\n",
              "\n",
              "      async function convertToInteractive(key) {\n",
              "        const element = document.querySelector('#df-b150353c-8712-4fe8-9902-c1cf5dd69184');\n",
              "        const dataTable =\n",
              "          await google.colab.kernel.invokeFunction('convertToInteractive',\n",
              "                                                    [key], {});\n",
              "        if (!dataTable) return;\n",
              "\n",
              "        const docLinkHtml = 'Like what you see? Visit the ' +\n",
              "          '<a target=\"_blank\" href=https://colab.research.google.com/notebooks/data_table.ipynb>data table notebook</a>'\n",
              "          + ' to learn more about interactive tables.';\n",
              "        element.innerHTML = '';\n",
              "        dataTable['output_type'] = 'display_data';\n",
              "        await google.colab.output.renderOutput(dataTable, element);\n",
              "        const docLink = document.createElement('div');\n",
              "        docLink.innerHTML = docLinkHtml;\n",
              "        element.appendChild(docLink);\n",
              "      }\n",
              "    </script>\n",
              "  </div>\n",
              "\n",
              "\n",
              "<div id=\"df-bc42e2cf-83b2-45e1-9804-04e591133fef\">\n",
              "  <button class=\"colab-df-quickchart\" onclick=\"quickchart('df-bc42e2cf-83b2-45e1-9804-04e591133fef')\"\n",
              "            title=\"Suggest charts\"\n",
              "            style=\"display:none;\">\n",
              "\n",
              "<svg xmlns=\"http://www.w3.org/2000/svg\" height=\"24px\"viewBox=\"0 0 24 24\"\n",
              "     width=\"24px\">\n",
              "    <g>\n",
              "        <path d=\"M19 3H5c-1.1 0-2 .9-2 2v14c0 1.1.9 2 2 2h14c1.1 0 2-.9 2-2V5c0-1.1-.9-2-2-2zM9 17H7v-7h2v7zm4 0h-2V7h2v10zm4 0h-2v-4h2v4z\"/>\n",
              "    </g>\n",
              "</svg>\n",
              "  </button>\n",
              "\n",
              "<style>\n",
              "  .colab-df-quickchart {\n",
              "      --bg-color: #E8F0FE;\n",
              "      --fill-color: #1967D2;\n",
              "      --hover-bg-color: #E2EBFA;\n",
              "      --hover-fill-color: #174EA6;\n",
              "      --disabled-fill-color: #AAA;\n",
              "      --disabled-bg-color: #DDD;\n",
              "  }\n",
              "\n",
              "  [theme=dark] .colab-df-quickchart {\n",
              "      --bg-color: #3B4455;\n",
              "      --fill-color: #D2E3FC;\n",
              "      --hover-bg-color: #434B5C;\n",
              "      --hover-fill-color: #FFFFFF;\n",
              "      --disabled-bg-color: #3B4455;\n",
              "      --disabled-fill-color: #666;\n",
              "  }\n",
              "\n",
              "  .colab-df-quickchart {\n",
              "    background-color: var(--bg-color);\n",
              "    border: none;\n",
              "    border-radius: 50%;\n",
              "    cursor: pointer;\n",
              "    display: none;\n",
              "    fill: var(--fill-color);\n",
              "    height: 32px;\n",
              "    padding: 0;\n",
              "    width: 32px;\n",
              "  }\n",
              "\n",
              "  .colab-df-quickchart:hover {\n",
              "    background-color: var(--hover-bg-color);\n",
              "    box-shadow: 0 1px 2px rgba(60, 64, 67, 0.3), 0 1px 3px 1px rgba(60, 64, 67, 0.15);\n",
              "    fill: var(--button-hover-fill-color);\n",
              "  }\n",
              "\n",
              "  .colab-df-quickchart-complete:disabled,\n",
              "  .colab-df-quickchart-complete:disabled:hover {\n",
              "    background-color: var(--disabled-bg-color);\n",
              "    fill: var(--disabled-fill-color);\n",
              "    box-shadow: none;\n",
              "  }\n",
              "\n",
              "  .colab-df-spinner {\n",
              "    border: 2px solid var(--fill-color);\n",
              "    border-color: transparent;\n",
              "    border-bottom-color: var(--fill-color);\n",
              "    animation:\n",
              "      spin 1s steps(1) infinite;\n",
              "  }\n",
              "\n",
              "  @keyframes spin {\n",
              "    0% {\n",
              "      border-color: transparent;\n",
              "      border-bottom-color: var(--fill-color);\n",
              "      border-left-color: var(--fill-color);\n",
              "    }\n",
              "    20% {\n",
              "      border-color: transparent;\n",
              "      border-left-color: var(--fill-color);\n",
              "      border-top-color: var(--fill-color);\n",
              "    }\n",
              "    30% {\n",
              "      border-color: transparent;\n",
              "      border-left-color: var(--fill-color);\n",
              "      border-top-color: var(--fill-color);\n",
              "      border-right-color: var(--fill-color);\n",
              "    }\n",
              "    40% {\n",
              "      border-color: transparent;\n",
              "      border-right-color: var(--fill-color);\n",
              "      border-top-color: var(--fill-color);\n",
              "    }\n",
              "    60% {\n",
              "      border-color: transparent;\n",
              "      border-right-color: var(--fill-color);\n",
              "    }\n",
              "    80% {\n",
              "      border-color: transparent;\n",
              "      border-right-color: var(--fill-color);\n",
              "      border-bottom-color: var(--fill-color);\n",
              "    }\n",
              "    90% {\n",
              "      border-color: transparent;\n",
              "      border-bottom-color: var(--fill-color);\n",
              "    }\n",
              "  }\n",
              "</style>\n",
              "\n",
              "  <script>\n",
              "    async function quickchart(key) {\n",
              "      const quickchartButtonEl =\n",
              "        document.querySelector('#' + key + ' button');\n",
              "      quickchartButtonEl.disabled = true;  // To prevent multiple clicks.\n",
              "      quickchartButtonEl.classList.add('colab-df-spinner');\n",
              "      try {\n",
              "        const charts = await google.colab.kernel.invokeFunction(\n",
              "            'suggestCharts', [key], {});\n",
              "      } catch (error) {\n",
              "        console.error('Error during call to suggestCharts:', error);\n",
              "      }\n",
              "      quickchartButtonEl.classList.remove('colab-df-spinner');\n",
              "      quickchartButtonEl.classList.add('colab-df-quickchart-complete');\n",
              "    }\n",
              "    (() => {\n",
              "      let quickchartButtonEl =\n",
              "        document.querySelector('#df-bc42e2cf-83b2-45e1-9804-04e591133fef button');\n",
              "      quickchartButtonEl.style.display =\n",
              "        google.colab.kernel.accessAllowed ? 'block' : 'none';\n",
              "    })();\n",
              "  </script>\n",
              "</div>\n",
              "    </div>\n",
              "  </div>\n"
            ]
          },
          "metadata": {},
          "execution_count": 2
        }
      ],
      "source": [
        "df = pd.read_csv(\"/content/Copy of Database Anonymized - DC Motor Q&A - Q1.csv\")\n",
        "df"
      ]
    },
    {
      "cell_type": "code",
      "execution_count": 3,
      "metadata": {
        "id": "rWc4MHdWAyxd"
      },
      "outputs": [],
      "source": [
        "second_column = df.iloc[0:, 1]\n",
        "# second_column"
      ]
    },
    {
      "cell_type": "markdown",
      "metadata": {
        "id": "aOBjinXmM4pF"
      },
      "source": [
        "# 1) Length of answer"
      ]
    },
    {
      "cell_type": "code",
      "execution_count": 4,
      "metadata": {
        "id": "ghesM4ZIA8jS"
      },
      "outputs": [],
      "source": [
        "def grade_answers(answer):\n",
        "        if len(answer.split()) < 5:\n",
        "            grades = 0\n",
        "            flag = \"Answer is too short\"\n",
        "        else:\n",
        "            flag = \"Continue for further evaluation\"\n",
        "        return flag\n"
      ]
    },
    {
      "cell_type": "code",
      "execution_count": 5,
      "metadata": {
        "id": "FHcRByHkBBsl"
      },
      "outputs": [],
      "source": [
        "CheckLength = []\n",
        "for val in second_column:\n",
        "    if isinstance(val, float):\n",
        "        # Handle float values\n",
        "        CheckLength.append(grade_answers(str(val)))\n",
        "    else:\n",
        "        CheckLength.append(grade_answers(val))\n",
        "# print(CheckLength)\n"
      ]
    },
    {
      "cell_type": "code",
      "execution_count": 6,
      "metadata": {
        "id": "Wt1qUW1TVMT4"
      },
      "outputs": [],
      "source": [
        "\n",
        "# Create a new column with the CheckLength values\n",
        "df['CheckLength'] = pd.Series(CheckLength[:len(df)], index=df.index)\n"
      ]
    },
    {
      "cell_type": "code",
      "execution_count": 7,
      "metadata": {
        "id": "HHjwYtWOTf_u"
      },
      "outputs": [],
      "source": [
        "# Apply conditional formatting\n",
        "def highlight_short_answer(row):\n",
        "    if row['CheckLength'] == 'Answer is too short':\n",
        "        return ['background-color: red'] * len(row)\n",
        "    else:\n",
        "        return [''] * len(row)\n",
        "\n",
        "styled_df = df.style.apply(highlight_short_answer, axis=1)\n",
        "\n",
        "# Display the styled DataFrame\n",
        "# styled_df"
      ]
    },
    {
      "cell_type": "markdown",
      "metadata": {
        "id": "94d7gQIENQU2"
      },
      "source": [
        "#2) Checking plaig from peers"
      ]
    },
    {
      "cell_type": "code",
      "execution_count": 8,
      "metadata": {
        "id": "6Et87W00KT9z"
      },
      "outputs": [],
      "source": [
        "from sklearn.feature_extraction.text import TfidfVectorizer\n",
        "from sklearn.metrics.pairwise import cosine_similarity\n",
        "\n",
        "def calculate_cosine_similarity(answer1, answer2):\n",
        "    # Create a TF-IDF vectorizer\n",
        "    vectorizer = TfidfVectorizer()\n",
        "\n",
        "    # Fit and transform the answers into TF-IDF feature vectors\n",
        "    tfidf_matrix = vectorizer.fit_transform([answer1, answer2])\n",
        "\n",
        "    # Calculate the cosine similarity between the TF-IDF vectors\n",
        "    similarity_matrix = cosine_similarity(tfidf_matrix[0], tfidf_matrix[1])\n",
        "\n",
        "    # Retrieve the cosine similarity score\n",
        "    cosine_similarity_score = similarity_matrix[0][0]\n",
        "\n",
        "    return cosine_similarity_score\n"
      ]
    },
    {
      "cell_type": "code",
      "execution_count": 9,
      "metadata": {
        "colab": {
          "base_uri": "https://localhost:8080/"
        },
        "id": "pMmlqgVtHz42",
        "outputId": "d539b338-e3aa-4c0b-de37-cf449015376f"
      },
      "outputs": [
        {
          "output_type": "stream",
          "name": "stdout",
          "text": [
            "TF Range: (0.0, 0.7681689488893733)\n",
            "IDF Range: (1.0, 1.4054651081081644)\n"
          ]
        }
      ],
      "source": [
        "from sklearn.feature_extraction.text import TfidfVectorizer\n",
        "\n",
        "# Create a TF-IDF vectorizer\n",
        "vectorizer = TfidfVectorizer()\n",
        "\n",
        "# Calculate TF and IDF ranges\n",
        "tf_range = []\n",
        "idf_range = []\n",
        "\n",
        "for i in range(len(second_column)):\n",
        "    for j in range(i + 1, len(second_column)):\n",
        "        sentence1 = second_column[i]\n",
        "        sentence2 = second_column[j]\n",
        "\n",
        "        # Check for np.nan values\n",
        "        if pd.isna(sentence1) or pd.isna(sentence2):\n",
        "            continue\n",
        "\n",
        "        # Fit and transform the sentences into TF-IDF feature vectors\n",
        "        tfidf_matrix = vectorizer.fit_transform([sentence1, sentence2])\n",
        "\n",
        "        # Retrieve the TF and IDF values\n",
        "        tf_values = tfidf_matrix.toarray()\n",
        "        idf_values = vectorizer.idf_\n",
        "\n",
        "        # Calculate the TF and IDF ranges for each term\n",
        "        term_tf_range = [(min(tf_values[:, k]), max(tf_values[:, k])) for k in range(tf_values.shape[1])]\n",
        "        term_idf_range = (min(idf_values), max(idf_values))\n",
        "\n",
        "        # Append the term ranges to the overall ranges\n",
        "        tf_range.extend(term_tf_range)\n",
        "        idf_range.append(term_idf_range)\n",
        "\n",
        "# Calculate the overall TF and IDF ranges\n",
        "overall_tf_range = (min([tf[0] for tf in tf_range]), max([tf[1] for tf in tf_range]))\n",
        "overall_idf_range = (min([idf[0] for idf in idf_range]), max([idf[1] for idf in idf_range]))\n",
        "\n",
        "# Print the TF and IDF ranges\n",
        "print(\"TF Range:\", overall_tf_range)\n",
        "print(\"IDF Range:\", overall_idf_range)\n"
      ]
    },
    {
      "cell_type": "code",
      "execution_count": 11,
      "metadata": {
        "id": "2GBp_7P0PBoC"
      },
      "outputs": [],
      "source": [
        "peers = []\n",
        "for i in range(len(second_column)):\n",
        "    mx_similarity_score = 0\n",
        "    for j in range(i + 1, len(second_column)):\n",
        "        sentence1 = second_column[i]\n",
        "        sentence2 = second_column[j]\n",
        "\n",
        "        # Check for np.nan values\n",
        "        if pd.isna(sentence1) or pd.isna(sentence2):\n",
        "            continue\n",
        "\n",
        "        similarity_score = calculate_cosine_similarity(sentence1, sentence2)\n",
        "        mx_similarity_score = max(mx_similarity_score, similarity_score)\n",
        "\n",
        "    if mx_similarity_score > 0.9:\n",
        "        grades = 0\n",
        "        flag = \"Answer is copied from a classmate\"\n",
        "    else:\n",
        "        flag = \"Continue for further evaluation\"\n",
        "\n",
        "    peers.append(flag)\n"
      ]
    },
    {
      "cell_type": "code",
      "execution_count": null,
      "metadata": {
        "colab": {
          "background_save": true
        },
        "id": "L_b922VEQs0a"
      },
      "outputs": [],
      "source": [
        "# len(peers)"
      ]
    },
    {
      "cell_type": "code",
      "execution_count": 12,
      "metadata": {
        "id": "0nHjyW7YSC1X"
      },
      "outputs": [],
      "source": [
        "\n",
        "# Create a new column with the peer values\n",
        "df['from Peers'] = pd.Series(peers[:len(df)], index=df.index)"
      ]
    },
    {
      "cell_type": "code",
      "execution_count": 13,
      "metadata": {
        "id": "TGmWDrUvT5gz"
      },
      "outputs": [],
      "source": [
        "# Apply conditional formatting\n",
        "def highlight_short_answer(row):\n",
        "    if row['from Peers'] == \"Answer is copied from a classmate\":\n",
        "        return ['background-color: red'] * len(row)\n",
        "    else:\n",
        "        return [''] * len(row)\n",
        "\n",
        "styled_df = df.style.apply(highlight_short_answer, axis=1)\n",
        "\n",
        "# Display the styled DataFrame\n",
        "# styled_df"
      ]
    },
    {
      "cell_type": "markdown",
      "metadata": {
        "id": "zF-9EhhzWo9Z"
      },
      "source": [
        "#4) Checking keywords"
      ]
    },
    {
      "cell_type": "code",
      "execution_count": 15,
      "metadata": {
        "id": "8soY_sdDWiVf"
      },
      "outputs": [],
      "source": [
        "\n",
        "given_keywords = [\"Torque\" , \"current\" , \"conductor\", \"armature\" , \"field\" , \"commutator\", \"brush\", \"electric\" , \"magnetic\" ]\n",
        "\n",
        "\n",
        "def calculate_keyword_marks(answer, keywords):\n",
        "    answer = answer.lower()  # Convert the answer to lowercase for case-insensitive comparison\n",
        "    total_keywords = len(keywords)\n",
        "    found_keywords = 0\n",
        "\n",
        "    for keyword in keywords:\n",
        "        keyword = keyword.lower()  # Convert the keyword to lowercase for case-insensitive comparison\n",
        "        if keyword in answer:\n",
        "            found_keywords += 1\n",
        "        elif keyword + 's' in answer:\n",
        "            found_keywords += 1\n",
        "        elif keyword + \"es\" in answer:\n",
        "            found_keywords += 1\n",
        "\n",
        "    prct = (found_keywords / total_keywords) * 100\n",
        "    marks = 0\n",
        "    if prct>=90:\n",
        "      marks = 1.5\n",
        "    elif prct>=80 and prct<90:\n",
        "      marks = 1.25\n",
        "    elif prct>=70 and prct<80:\n",
        "      marks = 1\n",
        "    elif prct>=60 and prct<70:\n",
        "      marks = 0.75\n",
        "    elif prct>=50 and prct<60:\n",
        "      marks = 0.5\n",
        "    elif prct>=10 and prct<50:\n",
        "      marks = 0.25\n",
        "    return marks\n"
      ]
    },
    {
      "cell_type": "code",
      "execution_count": 16,
      "metadata": {
        "id": "sKPLybESbTaj"
      },
      "outputs": [],
      "source": [
        "keywords = []\n",
        "for i in range(len(second_column)):\n",
        "  answer = second_column[i]\n",
        "  if isinstance(answer, float):\n",
        "    marks = calculate_keyword_marks(str(answer), given_keywords)\n",
        "  else:\n",
        "    marks = calculate_keyword_marks(answer, given_keywords)\n",
        "  keywords.append(marks)\n",
        "\n"
      ]
    },
    {
      "cell_type": "code",
      "execution_count": null,
      "metadata": {
        "id": "FrQMPPs7SYWm"
      },
      "outputs": [],
      "source": [
        "# keywords"
      ]
    },
    {
      "cell_type": "code",
      "execution_count": null,
      "metadata": {
        "id": "IBl6XtFndpM8"
      },
      "outputs": [],
      "source": [
        "# len(keywords)"
      ]
    },
    {
      "cell_type": "code",
      "execution_count": 17,
      "metadata": {
        "id": "eptoQzqDdxN7"
      },
      "outputs": [],
      "source": [
        "# Create a new column with the CheckLength values\n",
        "df['Keywords (1.5 marks)'] = pd.Series(keywords[:len(df)], index=df.index)"
      ]
    },
    {
      "cell_type": "markdown",
      "metadata": {
        "id": "Pfqx-ABFhefk"
      },
      "source": [
        "# 5) Semantic similarity"
      ]
    },
    {
      "cell_type": "code",
      "execution_count": null,
      "metadata": {
        "id": "EH8jNZ1ZitnW"
      },
      "outputs": [],
      "source": [
        "!pip install sentence-transformers\n"
      ]
    },
    {
      "cell_type": "code",
      "execution_count": 20,
      "metadata": {
        "id": "KEFfdMPIhWRi"
      },
      "outputs": [],
      "source": [
        "from sentence_transformers import SentenceTransformer, util\n",
        "\n",
        "def calculate_similarity(answer1, answer2):\n",
        "    # Load the pre-trained model\n",
        "    model = SentenceTransformer('bert-base-nli-mean-tokens')\n",
        "\n",
        "    # Encode the answers into their corresponding embeddings\n",
        "    embeddings = model.encode([answer1, answer2], convert_to_tensor=True)\n",
        "\n",
        "    # Calculate cosine similarity between the embeddings\n",
        "    cosine_similarity = util.pytorch_cos_sim(embeddings[0], embeddings[1])\n",
        "\n",
        "    return cosine_similarity.item()\n",
        "\n",
        "IdealAnswer = \"Principle: When a armature rotates, magnetic flux through it changes. When electric current is flowing through it, it experience a force, which can generate a rotating effect. Few important components are: armature, brushes, magnets around the armature, commutator\"\n",
        "\n"
      ]
    },
    {
      "cell_type": "code",
      "execution_count": null,
      "metadata": {
        "id": "Uq5icOCZi4HL"
      },
      "outputs": [],
      "source": [
        "Semantic = []\n",
        "for i in range(len(second_column)):\n",
        "  answer = second_column[i]\n",
        "  if isinstance(answer, float):\n",
        "    score = calculate_similarity(IdealAnswer, str(answer))\n",
        "    marks = 0\n",
        "    if score>=.90:\n",
        "      marks = 3.5\n",
        "    elif score>=.80 and score<.90:\n",
        "      marks = 3\n",
        "    elif score>=.70 and score<.80:\n",
        "      marks = 2.5\n",
        "    elif score>=.60 and score<.70:\n",
        "      marks = 2.0\n",
        "    elif score>=.50 and score<.60:\n",
        "      marks = 1.5\n",
        "    elif score>=.30 and score<.50:\n",
        "      marks = 1\n",
        "    elif score>=.10 and score<.30:\n",
        "      marks = 0.5\n",
        "  else:\n",
        "    score = calculate_similarity(IdealAnswer, answer)\n",
        "    marks = 0\n",
        "    if score>=.90:\n",
        "      marks = 3.5\n",
        "    elif score>=.80 and score<.90:\n",
        "      marks = 3\n",
        "    elif score>=.70 and score<.80:\n",
        "      marks = 2.5\n",
        "    elif score>=.60 and score<.70:\n",
        "      marks = 2.0\n",
        "    elif score>=.50 and score<.60:\n",
        "      marks = 1.5\n",
        "    elif score>=.30 and score<.50:\n",
        "      marks = 1\n",
        "    elif score>=.10 and score<.30:\n",
        "      marks = 0.5\n",
        "  Semantic.append(marks)"
      ]
    },
    {
      "cell_type": "code",
      "execution_count": null,
      "metadata": {
        "id": "-S8cyytfk96z"
      },
      "outputs": [],
      "source": [
        "# Semantic"
      ]
    },
    {
      "cell_type": "code",
      "execution_count": 22,
      "metadata": {
        "id": "97_fYuPErB9B"
      },
      "outputs": [],
      "source": [
        "# Create a new column with the CheckLength values\n",
        "df['Semantic (3.5 marks)'] = pd.Series(Semantic[:len(df)], index=df.index)"
      ]
    },
    {
      "cell_type": "markdown",
      "metadata": {
        "id": "XqN85zFCyff7"
      },
      "source": [
        "# Total Marks"
      ]
    },
    {
      "cell_type": "code",
      "execution_count": 23,
      "metadata": {
        "id": "wrzQw0Avyehv"
      },
      "outputs": [],
      "source": [
        "keyword = df.iloc[0:, 4]\n",
        "semantic = df.iloc[0:, 5]\n",
        "# keyword\n",
        "# semantic"
      ]
    },
    {
      "cell_type": "code",
      "execution_count": 24,
      "metadata": {
        "id": "hs0NRdLExzcV"
      },
      "outputs": [],
      "source": [
        "total = []\n",
        "for i in range(len(keyword)):\n",
        "  keyMarks = keyword[i]\n",
        "  semMarks = semantic[i]\n",
        "  marks = keyMarks + semMarks\n",
        "  if keyMarks==0 or semMarks==0:\n",
        "    marks = 0\n",
        "  total.append(marks)"
      ]
    },
    {
      "cell_type": "code",
      "execution_count": null,
      "metadata": {
        "id": "rQKDP2Xp0aIY"
      },
      "outputs": [],
      "source": [
        "# total"
      ]
    },
    {
      "cell_type": "code",
      "execution_count": 25,
      "metadata": {
        "id": "FURwLjYo0oT4"
      },
      "outputs": [],
      "source": [
        "# Create a new column with the CheckLength values\n",
        "df['Total (5 marks)'] = pd.Series(total[:len(df)], index=df.index)"
      ]
    },
    {
      "cell_type": "code",
      "execution_count": 27,
      "metadata": {
        "id": "k4hR7Gi5XR2X"
      },
      "outputs": [],
      "source": [
        "# Write the modified DataFrame back to a CSV file\n",
        "df.to_csv('your_modified_file.csv', index=False)"
      ]
    }
  ],
  "metadata": {
    "colab": {
      "provenance": []
    },
    "kernelspec": {
      "display_name": "Python 3",
      "name": "python3"
    },
    "language_info": {
      "name": "python"
    }
  },
  "nbformat": 4,
  "nbformat_minor": 0
}